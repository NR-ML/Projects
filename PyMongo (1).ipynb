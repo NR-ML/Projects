{
 "cells": [
  {
   "cell_type": "code",
   "execution_count": 13,
   "id": "bd5b32f3",
   "metadata": {},
   "outputs": [],
   "source": [
    "import pymongo"
   ]
  },
  {
   "cell_type": "code",
   "execution_count": 14,
   "id": "d4228d34",
   "metadata": {},
   "outputs": [],
   "source": [
    "dbConn=pymongo.MongoClient(\"mongodb://localhost:27017\")"
   ]
  },
  {
   "cell_type": "code",
   "execution_count": 15,
   "id": "1ff54dc1",
   "metadata": {},
   "outputs": [],
   "source": [
    "dbname='mongoclass'\n",
    "db=dbConn['Test']"
   ]
  },
  {
   "cell_type": "code",
   "execution_count": 16,
   "id": "7e0d7405",
   "metadata": {},
   "outputs": [
    {
     "name": "stdout",
     "output_type": "stream",
     "text": [
      "['Practise', 'Test', 'admin', 'config', 'local']\n"
     ]
    }
   ],
   "source": [
    "print(dbConn.list_database_names())"
   ]
  },
  {
   "cell_type": "code",
   "execution_count": 17,
   "id": "1cf34118",
   "metadata": {},
   "outputs": [],
   "source": [
    "collection_name='Test'\n",
    "collection=db['collection_name']"
   ]
  },
  {
   "cell_type": "code",
   "execution_count": 18,
   "id": "33dc1957",
   "metadata": {},
   "outputs": [
    {
     "data": {
      "text/plain": [
       "Collection(Database(MongoClient(host=['localhost:27017'], document_class=dict, tz_aware=False, connect=True), 'Test'), 'collection_name')"
      ]
     },
     "execution_count": 18,
     "metadata": {},
     "output_type": "execute_result"
    }
   ],
   "source": [
    "collection"
   ]
  },
  {
   "cell_type": "code",
   "execution_count": 19,
   "id": "eb12425f",
   "metadata": {},
   "outputs": [],
   "source": [
    "myrows={\"Serial No\":\"9997\",\"GRE Score\":\"337\",\n",
    "    \"TOEFL Score\":\"118\",\n",
    "    \"University Rating\":\"4\"}\n"
   ]
  },
  {
   "cell_type": "code",
   "execution_count": 20,
   "id": "50b7de94",
   "metadata": {},
   "outputs": [
    {
     "data": {
      "text/plain": [
       "<pymongo.results.InsertOneResult at 0x1f766475dc0>"
      ]
     },
     "execution_count": 20,
     "metadata": {},
     "output_type": "execute_result"
    }
   ],
   "source": [
    "collection.insert_one(myrows)"
   ]
  },
  {
   "cell_type": "code",
   "execution_count": 21,
   "id": "18a9d156",
   "metadata": {},
   "outputs": [],
   "source": [
    "mannyrows=[{\"Serial No\":\"9997\",\"GRE Score\":\"337\",\n",
    "    \"TOEFL Score\":\"118\",\n",
    "    \"University Rating\":\"4\"},\n",
    "    {\"Serial No\":\"9997\",\"GRE Score\":\"337\",\n",
    "    \"TOEFL Score\":\"118\",\n",
    "    \"University Rating\":\"4\"},\n",
    "    {\"Serial No\":\"9997\",\"GRE Score\":\"337\",\n",
    "    \"TOEFL Score\":\"118\",\n",
    "    \"University Rating\":\"4\"},\n",
    "    {\"Serial No\":\"9997\",\"GRE Score\":\"337\",\n",
    "    \"TOEFL Score\":\"118\",\n",
    "    \"University Rating\":\"4\"}]"
   ]
  },
  {
   "cell_type": "code",
   "execution_count": 22,
   "id": "ceffa146",
   "metadata": {},
   "outputs": [],
   "source": [
    "for i in mannyrows:\n",
    "    collection.insert_one(i)"
   ]
  },
  {
   "cell_type": "code",
   "execution_count": 23,
   "id": "87055db3",
   "metadata": {},
   "outputs": [],
   "source": [
    "row1={\"Serial No\":\"9997\",\"GRE Score\":\"337\",\n",
    "    \"TOFL Score\":\"118\",\n",
    "    \"University \":\"4\"}"
   ]
  },
  {
   "cell_type": "code",
   "execution_count": 24,
   "id": "486b2aec",
   "metadata": {},
   "outputs": [
    {
     "data": {
      "text/plain": [
       "<pymongo.results.InsertOneResult at 0x1f768a79340>"
      ]
     },
     "execution_count": 24,
     "metadata": {},
     "output_type": "execute_result"
    }
   ],
   "source": [
    "collection.insert_one(row1)"
   ]
  },
  {
   "cell_type": "code",
   "execution_count": 25,
   "id": "58b9a4e9",
   "metadata": {},
   "outputs": [],
   "source": [
    "db=dbConn['BigData']"
   ]
  },
  {
   "cell_type": "code",
   "execution_count": 26,
   "id": "8acd5b21",
   "metadata": {},
   "outputs": [
    {
     "name": "stdout",
     "output_type": "stream",
     "text": [
      "['Practise', 'Test', 'admin', 'config', 'local']\n"
     ]
    }
   ],
   "source": [
    "print(dbConn.list_database_names())"
   ]
  },
  {
   "cell_type": "code",
   "execution_count": 27,
   "id": "e4877ce6",
   "metadata": {},
   "outputs": [],
   "source": [
    "a='Arpit'\n",
    "b=db['Arpit']"
   ]
  },
  {
   "cell_type": "code",
   "execution_count": 28,
   "id": "c2c64b55",
   "metadata": {},
   "outputs": [
    {
     "data": {
      "text/plain": [
       "Collection(Database(MongoClient(host=['localhost:27017'], document_class=dict, tz_aware=False, connect=True), 'BigData'), 'Arpit')"
      ]
     },
     "execution_count": 28,
     "metadata": {},
     "output_type": "execute_result"
    }
   ],
   "source": [
    "b"
   ]
  },
  {
   "cell_type": "code",
   "execution_count": 29,
   "id": "b07ca561",
   "metadata": {},
   "outputs": [],
   "source": [
    "A={\"Serial No\":\"9997\",\"GRE Score\":\"337\",\n",
    "    \"TOEFL Score\":\"118\",\n",
    "    \"University Rating\":\"4\"}"
   ]
  },
  {
   "cell_type": "code",
   "execution_count": 30,
   "id": "2e15c629",
   "metadata": {},
   "outputs": [
    {
     "data": {
      "text/plain": [
       "<pymongo.results.InsertOneResult at 0x1f768a79280>"
      ]
     },
     "execution_count": 30,
     "metadata": {},
     "output_type": "execute_result"
    }
   ],
   "source": [
    "b.insert_one(A)"
   ]
  },
  {
   "cell_type": "code",
   "execution_count": 31,
   "id": "595c947d",
   "metadata": {},
   "outputs": [],
   "source": [
    "B=[{\"Serial No\":\"9997\",\"GRE Score\":\"337\",\n",
    "    \"TOEFL Score\":\"118\",\n",
    "    \"University Rating\":\"4\"},\n",
    "    {\"Serial No\":\"9997\",\"GRE Score\":\"337\",\n",
    "    \"TOEFL Score\":\"118\",\n",
    "    \"University Rating\":\"4\"},\n",
    "    {\"Serial No\":\"9997\",\"GRE Score\":\"337\",\n",
    "    \"TOEFL Score\":\"118\",\n",
    "    \"University Rating\":\"4\"},\n",
    "    {\"Serial No\":\"9997\",\"GRE Score\":\"337\",\n",
    "    \"TOEFL Score\":\"118\",\n",
    "    \"University Rating\":\"4\"}]"
   ]
  },
  {
   "cell_type": "code",
   "execution_count": 32,
   "id": "ff21279a",
   "metadata": {},
   "outputs": [],
   "source": [
    "for i in B:\n",
    "    b.insert_one(i)"
   ]
  },
  {
   "cell_type": "code",
   "execution_count": 33,
   "id": "d7271fb0",
   "metadata": {},
   "outputs": [
    {
     "data": {
      "text/plain": [
       "{'_id': ObjectId('62a9a5ef60d4e5ab2e261274'),\n",
       " 'Serial No': '9997',\n",
       " 'GRE Score': '337',\n",
       " 'TOEFL Score': '118',\n",
       " 'University Rating': '4'}"
      ]
     },
     "execution_count": 33,
     "metadata": {},
     "output_type": "execute_result"
    }
   ],
   "source": [
    "result=b.find({})\n",
    "result[0]\n"
   ]
  },
  {
   "cell_type": "code",
   "execution_count": 34,
   "id": "12901c54",
   "metadata": {},
   "outputs": [],
   "source": [
    "result_some= b.find({})\n",
    "\n"
   ]
  },
  {
   "cell_type": "code",
   "execution_count": 35,
   "id": "450a7c0a",
   "metadata": {},
   "outputs": [
    {
     "data": {
      "text/plain": [
       "<pymongo.cursor.Cursor at 0x1f768a868e0>"
      ]
     },
     "execution_count": 35,
     "metadata": {},
     "output_type": "execute_result"
    }
   ],
   "source": [
    "b.find({})"
   ]
  },
  {
   "cell_type": "code",
   "execution_count": 36,
   "id": "abd1a67b",
   "metadata": {},
   "outputs": [
    {
     "name": "stdout",
     "output_type": "stream",
     "text": [
      "{'_id': ObjectId('62a9a5ef60d4e5ab2e261274'), 'Serial No': '9997', 'GRE Score': '337', 'TOEFL Score': '118', 'University Rating': '4'}\n",
      "{'_id': ObjectId('62a9a5ef60d4e5ab2e261275'), 'Serial No': '9997', 'GRE Score': '337', 'TOEFL Score': '118', 'University Rating': '4'}\n",
      "{'_id': ObjectId('62a9a5ef60d4e5ab2e261276'), 'Serial No': '9997', 'GRE Score': '337', 'TOEFL Score': '118', 'University Rating': '4'}\n",
      "{'_id': ObjectId('62a9a5ef60d4e5ab2e261277'), 'Serial No': '9997', 'GRE Score': '337', 'TOEFL Score': '118', 'University Rating': '4'}\n",
      "{'_id': ObjectId('62a9a5ef60d4e5ab2e261278'), 'Serial No': '9997', 'GRE Score': '337', 'TOEFL Score': '118', 'University Rating': '4'}\n"
     ]
    }
   ],
   "source": [
    "for i in result_some:\n",
    "    print(i)"
   ]
  },
  {
   "cell_type": "code",
   "execution_count": 37,
   "id": "ab8e2616",
   "metadata": {},
   "outputs": [],
   "source": [
    "\n"
   ]
  },
  {
   "cell_type": "code",
   "execution_count": 40,
   "id": "08562104",
   "metadata": {},
   "outputs": [],
   "source": []
  },
  {
   "cell_type": "code",
   "execution_count": null,
   "id": "0978d83f",
   "metadata": {},
   "outputs": [],
   "source": []
  },
  {
   "cell_type": "code",
   "execution_count": null,
   "id": "1255abe7",
   "metadata": {},
   "outputs": [],
   "source": []
  }
 ],
 "metadata": {
  "kernelspec": {
   "display_name": "Python 3 (ipykernel)",
   "language": "python",
   "name": "python3"
  },
  "language_info": {
   "codemirror_mode": {
    "name": "ipython",
    "version": 3
   },
   "file_extension": ".py",
   "mimetype": "text/x-python",
   "name": "python",
   "nbconvert_exporter": "python",
   "pygments_lexer": "ipython3",
   "version": "3.9.7"
  }
 },
 "nbformat": 4,
 "nbformat_minor": 5
}
