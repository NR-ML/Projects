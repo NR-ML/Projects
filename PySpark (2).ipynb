{
 "cells": [
  {
   "cell_type": "code",
   "execution_count": null,
   "metadata": {
    "colab": {
     "base_uri": "https://localhost:8080/"
    },
    "id": "6svHdKYAXQ1u",
    "outputId": "c5036435-d5dc-443f-91d3-f33d20d0e4e4"
   },
   "outputs": [
    {
     "name": "stdout",
     "output_type": "stream",
     "text": [
      "Looking in indexes: https://pypi.org/simple, https://us-python.pkg.dev/colab-wheels/public/simple/\n",
      "Collecting pyspark\n",
      "  Downloading pyspark-3.3.0.tar.gz (281.3 MB)\n",
      "\u001b[K     |████████████████████████████████| 281.3 MB 42 kB/s \n",
      "\u001b[?25hCollecting py4j==0.10.9.5\n",
      "  Downloading py4j-0.10.9.5-py2.py3-none-any.whl (199 kB)\n",
      "\u001b[K     |████████████████████████████████| 199 kB 65.3 MB/s \n",
      "\u001b[?25hBuilding wheels for collected packages: pyspark\n",
      "  Building wheel for pyspark (setup.py) ... \u001b[?25l\u001b[?25hdone\n",
      "  Created wheel for pyspark: filename=pyspark-3.3.0-py2.py3-none-any.whl size=281764026 sha256=919429a23a523e7388e3fc5cb0334a8aceb471086d8ba2c045ce9f209af6fdf5\n",
      "  Stored in directory: /root/.cache/pip/wheels/7a/8e/1b/f73a52650d2e5f337708d9f6a1750d451a7349a867f928b885\n",
      "Successfully built pyspark\n",
      "Installing collected packages: py4j, pyspark\n",
      "Successfully installed py4j-0.10.9.5 pyspark-3.3.0\n"
     ]
    }
   ],
   "source": [
    "pip install pyspark"
   ]
  },
  {
   "cell_type": "code",
   "execution_count": null,
   "metadata": {
    "id": "2bMC8XFjXSHy"
   },
   "outputs": [],
   "source": [
    "import pyspark"
   ]
  },
  {
   "cell_type": "code",
   "execution_count": null,
   "metadata": {
    "id": "ycmMAbjKP8_K"
   },
   "outputs": [],
   "source": [
    "from pyspark.sql import SparkSession "
   ]
  },
  {
   "cell_type": "code",
   "execution_count": null,
   "metadata": {
    "id": "sB2cLMb3QVyj"
   },
   "outputs": [],
   "source": [
    "df=SparkSession.builder.appName(\"Kamal\").getOrCreate()"
   ]
  },
  {
   "cell_type": "code",
   "execution_count": null,
   "metadata": {
    "colab": {
     "base_uri": "https://localhost:8080/",
     "height": 219
    },
    "id": "C4vACtYCQ2J9",
    "outputId": "aad862e9-0297-47c9-eb21-afa86412dee5"
   },
   "outputs": [
    {
     "data": {
      "text/html": [
       "\n",
       "            <div>\n",
       "                <p><b>SparkSession - in-memory</b></p>\n",
       "                \n",
       "        <div>\n",
       "            <p><b>SparkContext</b></p>\n",
       "\n",
       "            <p><a href=\"http://aaa2e4378f2f:4040\">Spark UI</a></p>\n",
       "\n",
       "            <dl>\n",
       "              <dt>Version</dt>\n",
       "                <dd><code>v3.3.0</code></dd>\n",
       "              <dt>Master</dt>\n",
       "                <dd><code>local[*]</code></dd>\n",
       "              <dt>AppName</dt>\n",
       "                <dd><code>Kamal</code></dd>\n",
       "            </dl>\n",
       "        </div>\n",
       "        \n",
       "            </div>\n",
       "        "
      ],
      "text/plain": [
       "<pyspark.sql.session.SparkSession at 0x7ff4fac44ad0>"
      ]
     },
     "execution_count": 5,
     "metadata": {},
     "output_type": "execute_result"
    }
   ],
   "source": [
    "df"
   ]
  },
  {
   "cell_type": "code",
   "execution_count": null,
   "metadata": {
    "id": "j9YjDFiWasIm"
   },
   "outputs": [],
   "source": [
    "new = df.read.csv('/content/spark_data.csv',header=True,inferSchema=True)"
   ]
  },
  {
   "cell_type": "code",
   "execution_count": null,
   "metadata": {
    "colab": {
     "base_uri": "https://localhost:8080/"
    },
    "id": "qSBGTsC8b0Q1",
    "outputId": "4595f0b7-9e35-4a21-97e9-66dec90a57b7"
   },
   "outputs": [
    {
     "name": "stdout",
     "output_type": "stream",
     "text": [
      "root\n",
      " |-- row_id: integer (nullable = true)\n",
      " |-- order_id: string (nullable = true)\n",
      " |-- order_date: string (nullable = true)\n",
      " |-- shipping_date: string (nullable = true)\n",
      " |-- country: string (nullable = true)\n",
      " |-- city: string (nullable = true)\n",
      " |-- state: string (nullable = true)\n",
      " |-- category: string (nullable = true)\n",
      " |-- subcategory: string (nullable = true)\n",
      " |-- sales: double (nullable = true)\n",
      " |-- quantity: integer (nullable = true)\n",
      " |-- profit: double (nullable = true)\n",
      "\n"
     ]
    }
   ],
   "source": [
    "new.printSchema()"
   ]
  },
  {
   "cell_type": "code",
   "execution_count": null,
   "metadata": {
    "colab": {
     "base_uri": "https://localhost:8080/"
    },
    "id": "cOxCZGTcbhrK",
    "outputId": "3569d6b5-78fb-48e0-9b58-4bda6eb4f71b"
   },
   "outputs": [
    {
     "name": "stdout",
     "output_type": "stream",
     "text": [
      "+------+--------------+\n",
      "|row_id|      order_id|\n",
      "+------+--------------+\n",
      "|     1|CA-2016-152156|\n",
      "|     2|CA-2016-152156|\n",
      "|     3|CA-2016-138688|\n",
      "|     4|US-2015-108966|\n",
      "|     5|US-2015-108966|\n",
      "|     6|CA-2014-115812|\n",
      "|     7|CA-2014-115812|\n",
      "|     8|CA-2014-115812|\n",
      "|     9|CA-2014-115812|\n",
      "|    10|CA-2014-115812|\n",
      "|    11|CA-2014-115812|\n",
      "|    12|CA-2014-115812|\n",
      "|    13|CA-2017-114412|\n",
      "|    14|CA-2016-161389|\n",
      "|    15|US-2015-118983|\n",
      "|    16|US-2015-118983|\n",
      "|    17|CA-2014-105893|\n",
      "|    18|CA-2014-167164|\n",
      "|    19|CA-2014-143336|\n",
      "|    20|CA-2014-143336|\n",
      "+------+--------------+\n",
      "only showing top 20 rows\n",
      "\n"
     ]
    }
   ],
   "source": [
    "new.select([\"row_id\",\"order_id\"]).show()"
   ]
  },
  {
   "cell_type": "code",
   "execution_count": null,
   "metadata": {
    "colab": {
     "base_uri": "https://localhost:8080/"
    },
    "id": "f0LskJn9eHFw",
    "outputId": "134119b5-fa60-4339-e79f-a0127d4adbcf"
   },
   "outputs": [
    {
     "data": {
      "text/plain": [
       "[('row_id', 'int'),\n",
       " ('order_id', 'string'),\n",
       " ('order_date', 'string'),\n",
       " ('shipping_date', 'string'),\n",
       " ('country', 'string'),\n",
       " ('city', 'string'),\n",
       " ('state', 'string'),\n",
       " ('category', 'string'),\n",
       " ('subcategory', 'string'),\n",
       " ('sales', 'double'),\n",
       " ('quantity', 'int'),\n",
       " ('profit', 'double')]"
      ]
     },
     "execution_count": 10,
     "metadata": {},
     "output_type": "execute_result"
    }
   ],
   "source": [
    "new.dtypes"
   ]
  },
  {
   "cell_type": "code",
   "execution_count": null,
   "metadata": {
    "colab": {
     "base_uri": "https://localhost:8080/"
    },
    "id": "docOr48Fdwg_",
    "outputId": "af93f42c-bbf7-4de1-8665-6f5326eab0e6"
   },
   "outputs": [
    {
     "name": "stdout",
     "output_type": "stream",
     "text": [
      "('row_id', 'int')\n",
      "('quantity', 'int')\n"
     ]
    }
   ],
   "source": [
    "for i in new.dtypes:\n",
    "  for j in i:\n",
    "    if j ==\"int\":\n",
    "      print(i)"
   ]
  },
  {
   "cell_type": "code",
   "execution_count": null,
   "metadata": {
    "colab": {
     "base_uri": "https://localhost:8080/"
    },
    "id": "uxp3wsmyf3P6",
    "outputId": "0d93390c-f442-4c0f-e622-c3832894c67c"
   },
   "outputs": [
    {
     "name": "stdout",
     "output_type": "stream",
     "text": [
      "+------+--------------+----------+-------------+-------------+---------------+--------------+---------------+-----------+--------+--------+--------+\n",
      "|row_id|      order_id|order_date|shipping_date|      country|           city|         state|       category|subcategory|   sales|quantity|  profit|\n",
      "+------+--------------+----------+-------------+-------------+---------------+--------------+---------------+-----------+--------+--------+--------+\n",
      "|     1|CA-2016-152156|08-11-2016|   11-11-2016|United States|      Henderson|      Kentucky|      Furniture|  Bookcases|  261.96|       2| 41.9136|\n",
      "|     2|CA-2016-152156|08-11-2016|   11-11-2016|United States|      Henderson|      Kentucky|      Furniture|     Chairs|  731.94|       3| 219.582|\n",
      "|     3|CA-2016-138688|12-06-2016|   16-06-2016|United States|    Los Angeles|    California|Office Supplies|     Labels|   14.62|       2|  6.8714|\n",
      "|     4|US-2015-108966|11-10-2015|   18-10-2015|United States|Fort Lauderdale|       Florida|      Furniture|     Tables|957.5775|       5|-383.031|\n",
      "|     5|US-2015-108966|11-10-2015|   18-10-2015|United States|Fort Lauderdale|       Florida|Office Supplies|    Storage|  22.368|       2|  2.5164|\n",
      "|     6|CA-2014-115812|09-06-2014|   14-06-2014|United States|    Los Angeles|    California|      Furniture|Furnishings|   48.86|       7| 14.1694|\n",
      "|     7|CA-2014-115812|09-06-2014|   14-06-2014|United States|    Los Angeles|    California|Office Supplies|        Art|    7.28|       4|  1.9656|\n",
      "|     8|CA-2014-115812|09-06-2014|   14-06-2014|United States|    Los Angeles|    California|     Technology|     Phones| 907.152|       6| 90.7152|\n",
      "|     9|CA-2014-115812|09-06-2014|   14-06-2014|United States|    Los Angeles|    California|Office Supplies|    Binders|  18.504|       3|  5.7825|\n",
      "|    10|CA-2014-115812|09-06-2014|   14-06-2014|United States|    Los Angeles|    California|Office Supplies| Appliances|   114.9|       5|   34.47|\n",
      "|    11|CA-2014-115812|09-06-2014|   14-06-2014|United States|    Los Angeles|    California|      Furniture|     Tables|1706.184|       9| 85.3092|\n",
      "|    12|CA-2014-115812|09-06-2014|   14-06-2014|United States|    Los Angeles|    California|     Technology|     Phones| 911.424|       4| 68.3568|\n",
      "|    13|CA-2017-114412|15-04-2017|   20-04-2017|United States|        Concord|North Carolina|Office Supplies|      Paper|  15.552|       3|  5.4432|\n",
      "|    14|CA-2016-161389|05-12-2016|   10-12-2016|United States|        Seattle|    Washington|Office Supplies|    Binders| 407.976|       3|132.5922|\n",
      "|    15|US-2015-118983|22-11-2015|   26-11-2015|United States|     Fort Worth|         Texas|Office Supplies| Appliances|   68.81|       5|-123.858|\n",
      "|    16|US-2015-118983|22-11-2015|   26-11-2015|United States|     Fort Worth|         Texas|Office Supplies|    Binders|   2.544|       3|  -3.816|\n",
      "|    17|CA-2014-105893|11-11-2014|   18-11-2014|United States|        Madison|     Wisconsin|Office Supplies|    Storage|  665.88|       6| 13.3176|\n",
      "|    18|CA-2014-167164|13-05-2014|   15-05-2014|United States|    West Jordan|          Utah|Office Supplies|    Storage|    55.5|       2|    9.99|\n",
      "|    19|CA-2014-143336|27-08-2014|   01-09-2014|United States|  San Francisco|    California|Office Supplies|        Art|    8.56|       2|  2.4824|\n",
      "|    20|CA-2014-143336|27-08-2014|   01-09-2014|United States|  San Francisco|    California|     Technology|     Phones|  213.48|       3|  16.011|\n",
      "+------+--------------+----------+-------------+-------------+---------------+--------------+---------------+-----------+--------+--------+--------+\n",
      "only showing top 20 rows\n",
      "\n"
     ]
    }
   ],
   "source": [
    "new.show()"
   ]
  },
  {
   "cell_type": "code",
   "execution_count": null,
   "metadata": {
    "id": "X2ECoI0ohYXF"
   },
   "outputs": [],
   "source": [
    "new12=new.withColumn(\"revenue\",new[\"sales\"]+new[\"profit\"])"
   ]
  },
  {
   "cell_type": "code",
   "execution_count": null,
   "metadata": {
    "colab": {
     "base_uri": "https://localhost:8080/"
    },
    "id": "1K9Qex6xiA5Y",
    "outputId": "03838c32-78d4-4695-bb8f-45dce0bbf356"
   },
   "outputs": [
    {
     "name": "stdout",
     "output_type": "stream",
     "text": [
      "+-------------------+\n",
      "|            revenue|\n",
      "+-------------------+\n",
      "|           303.8736|\n",
      "|            951.522|\n",
      "|            21.4914|\n",
      "|  574.5464999999999|\n",
      "|            24.8844|\n",
      "| 63.029399999999995|\n",
      "|             9.2456|\n",
      "|           997.8672|\n",
      "|            24.2865|\n",
      "|             149.37|\n",
      "|          1791.4932|\n",
      "|           979.7808|\n",
      "|            20.9952|\n",
      "|  540.5681999999999|\n",
      "|            -55.048|\n",
      "|-1.2719999999999998|\n",
      "|           679.1976|\n",
      "|              65.49|\n",
      "|            11.0424|\n",
      "| 229.49099999999999|\n",
      "+-------------------+\n",
      "only showing top 20 rows\n",
      "\n"
     ]
    }
   ],
   "source": [
    "new12.select([\"revenue\"]).show(20)"
   ]
  },
  {
   "cell_type": "code",
   "execution_count": null,
   "metadata": {
    "id": "AxJfTSZFiPik"
   },
   "outputs": [],
   "source": [
    "new12=new12.drop(\"sales\",\"profit\")"
   ]
  },
  {
   "cell_type": "code",
   "execution_count": null,
   "metadata": {
    "colab": {
     "base_uri": "https://localhost:8080/"
    },
    "id": "xxIconw4idn2",
    "outputId": "17c2d176-3911-4d1a-f09a-d1f833d3ae3a"
   },
   "outputs": [
    {
     "data": {
      "text/plain": [
       "['row_id',\n",
       " 'order_id',\n",
       " 'order_date',\n",
       " 'shipping_date',\n",
       " 'country',\n",
       " 'city',\n",
       " 'state',\n",
       " 'category',\n",
       " 'subcategory',\n",
       " 'quantity',\n",
       " 'revenue']"
      ]
     },
     "execution_count": 17,
     "metadata": {},
     "output_type": "execute_result"
    }
   ],
   "source": [
    "new12.columns"
   ]
  },
  {
   "cell_type": "code",
   "execution_count": null,
   "metadata": {
    "colab": {
     "base_uri": "https://localhost:8080/"
    },
    "id": "WPLtu5-_iiU_",
    "outputId": "f3ab560e-fc15-4a6a-e86b-e3065debf23e"
   },
   "outputs": [
    {
     "name": "stdout",
     "output_type": "stream",
     "text": [
      "+-------------+\n",
      "|sum(quantity)|\n",
      "+-------------+\n",
      "|        37873|\n",
      "+-------------+\n",
      "\n"
     ]
    }
   ],
   "source": [
    "new.agg({'quantity': 'sum'}).show()"
   ]
  },
  {
   "cell_type": "code",
   "execution_count": null,
   "metadata": {
    "colab": {
     "base_uri": "https://localhost:8080/"
    },
    "id": "B9yoQozmm5D6",
    "outputId": "f7157fb1-5971-4f7f-a6b5-678cd70c6969"
   },
   "outputs": [
    {
     "name": "stdout",
     "output_type": "stream",
     "text": [
      "+------------------+\n",
      "|       avg(profit)|\n",
      "+------------------+\n",
      "|28.656896307784802|\n",
      "+------------------+\n",
      "\n"
     ]
    }
   ],
   "source": [
    "new.agg({'profit': 'mean'}).show()"
   ]
  },
  {
   "cell_type": "code",
   "execution_count": null,
   "metadata": {
    "id": "mQNboCNan1TK"
   },
   "outputs": [],
   "source": [
    "from pyspark.sql.functions import col, count, isnan, when"
   ]
  },
  {
   "cell_type": "code",
   "execution_count": null,
   "metadata": {
    "colab": {
     "base_uri": "https://localhost:8080/"
    },
    "id": "SSOLRxAinJc5",
    "outputId": "e713aae7-920b-4898-feed-ae093296d5fd"
   },
   "outputs": [
    {
     "data": {
      "text/plain": [
       "Column<'count(CASE WHEN (order_id IS NULL) THEN order_id END)'>"
      ]
     },
     "execution_count": 21,
     "metadata": {},
     "output_type": "execute_result"
    }
   ],
   "source": [
    "count(when(col(\"order_id\").isNull(),\"order_id\"))"
   ]
  },
  {
   "cell_type": "code",
   "execution_count": null,
   "metadata": {
    "id": "SEX5CCk2nxdN"
   },
   "outputs": [],
   "source": [
    "a=new.head(5)"
   ]
  },
  {
   "cell_type": "code",
   "execution_count": null,
   "metadata": {
    "id": "yRSdBajioweF"
   },
   "outputs": [],
   "source": [
    "import pandas as pd\n"
   ]
  },
  {
   "cell_type": "code",
   "execution_count": null,
   "metadata": {
    "colab": {
     "base_uri": "https://localhost:8080/",
     "height": 206
    },
    "id": "sfRyU-AHo3N2",
    "outputId": "febda4c3-f10b-480e-d448-8a8a78126332"
   },
   "outputs": [
    {
     "data": {
      "text/html": [
       "\n",
       "  <div id=\"df-8719ba45-59f9-4a91-9141-a3bfc4ab6107\">\n",
       "    <div class=\"colab-df-container\">\n",
       "      <div>\n",
       "<style scoped>\n",
       "    .dataframe tbody tr th:only-of-type {\n",
       "        vertical-align: middle;\n",
       "    }\n",
       "\n",
       "    .dataframe tbody tr th {\n",
       "        vertical-align: top;\n",
       "    }\n",
       "\n",
       "    .dataframe thead th {\n",
       "        text-align: right;\n",
       "    }\n",
       "</style>\n",
       "<table border=\"1\" class=\"dataframe\">\n",
       "  <thead>\n",
       "    <tr style=\"text-align: right;\">\n",
       "      <th></th>\n",
       "      <th>0</th>\n",
       "      <th>1</th>\n",
       "      <th>2</th>\n",
       "      <th>3</th>\n",
       "      <th>4</th>\n",
       "      <th>5</th>\n",
       "      <th>6</th>\n",
       "      <th>7</th>\n",
       "      <th>8</th>\n",
       "      <th>9</th>\n",
       "      <th>10</th>\n",
       "      <th>11</th>\n",
       "    </tr>\n",
       "  </thead>\n",
       "  <tbody>\n",
       "    <tr>\n",
       "      <th>0</th>\n",
       "      <td>1</td>\n",
       "      <td>CA-2016-152156</td>\n",
       "      <td>08-11-2016</td>\n",
       "      <td>11-11-2016</td>\n",
       "      <td>United States</td>\n",
       "      <td>Henderson</td>\n",
       "      <td>Kentucky</td>\n",
       "      <td>Furniture</td>\n",
       "      <td>Bookcases</td>\n",
       "      <td>261.9600</td>\n",
       "      <td>2</td>\n",
       "      <td>41.9136</td>\n",
       "    </tr>\n",
       "    <tr>\n",
       "      <th>1</th>\n",
       "      <td>2</td>\n",
       "      <td>CA-2016-152156</td>\n",
       "      <td>08-11-2016</td>\n",
       "      <td>11-11-2016</td>\n",
       "      <td>United States</td>\n",
       "      <td>Henderson</td>\n",
       "      <td>Kentucky</td>\n",
       "      <td>Furniture</td>\n",
       "      <td>Chairs</td>\n",
       "      <td>731.9400</td>\n",
       "      <td>3</td>\n",
       "      <td>219.5820</td>\n",
       "    </tr>\n",
       "    <tr>\n",
       "      <th>2</th>\n",
       "      <td>3</td>\n",
       "      <td>CA-2016-138688</td>\n",
       "      <td>12-06-2016</td>\n",
       "      <td>16-06-2016</td>\n",
       "      <td>United States</td>\n",
       "      <td>Los Angeles</td>\n",
       "      <td>California</td>\n",
       "      <td>Office Supplies</td>\n",
       "      <td>Labels</td>\n",
       "      <td>14.6200</td>\n",
       "      <td>2</td>\n",
       "      <td>6.8714</td>\n",
       "    </tr>\n",
       "    <tr>\n",
       "      <th>3</th>\n",
       "      <td>4</td>\n",
       "      <td>US-2015-108966</td>\n",
       "      <td>11-10-2015</td>\n",
       "      <td>18-10-2015</td>\n",
       "      <td>United States</td>\n",
       "      <td>Fort Lauderdale</td>\n",
       "      <td>Florida</td>\n",
       "      <td>Furniture</td>\n",
       "      <td>Tables</td>\n",
       "      <td>957.5775</td>\n",
       "      <td>5</td>\n",
       "      <td>-383.0310</td>\n",
       "    </tr>\n",
       "    <tr>\n",
       "      <th>4</th>\n",
       "      <td>5</td>\n",
       "      <td>US-2015-108966</td>\n",
       "      <td>11-10-2015</td>\n",
       "      <td>18-10-2015</td>\n",
       "      <td>United States</td>\n",
       "      <td>Fort Lauderdale</td>\n",
       "      <td>Florida</td>\n",
       "      <td>Office Supplies</td>\n",
       "      <td>Storage</td>\n",
       "      <td>22.3680</td>\n",
       "      <td>2</td>\n",
       "      <td>2.5164</td>\n",
       "    </tr>\n",
       "  </tbody>\n",
       "</table>\n",
       "</div>\n",
       "      <button class=\"colab-df-convert\" onclick=\"convertToInteractive('df-8719ba45-59f9-4a91-9141-a3bfc4ab6107')\"\n",
       "              title=\"Convert this dataframe to an interactive table.\"\n",
       "              style=\"display:none;\">\n",
       "        \n",
       "  <svg xmlns=\"http://www.w3.org/2000/svg\" height=\"24px\"viewBox=\"0 0 24 24\"\n",
       "       width=\"24px\">\n",
       "    <path d=\"M0 0h24v24H0V0z\" fill=\"none\"/>\n",
       "    <path d=\"M18.56 5.44l.94 2.06.94-2.06 2.06-.94-2.06-.94-.94-2.06-.94 2.06-2.06.94zm-11 1L8.5 8.5l.94-2.06 2.06-.94-2.06-.94L8.5 2.5l-.94 2.06-2.06.94zm10 10l.94 2.06.94-2.06 2.06-.94-2.06-.94-.94-2.06-.94 2.06-2.06.94z\"/><path d=\"M17.41 7.96l-1.37-1.37c-.4-.4-.92-.59-1.43-.59-.52 0-1.04.2-1.43.59L10.3 9.45l-7.72 7.72c-.78.78-.78 2.05 0 2.83L4 21.41c.39.39.9.59 1.41.59.51 0 1.02-.2 1.41-.59l7.78-7.78 2.81-2.81c.8-.78.8-2.07 0-2.86zM5.41 20L4 18.59l7.72-7.72 1.47 1.35L5.41 20z\"/>\n",
       "  </svg>\n",
       "      </button>\n",
       "      \n",
       "  <style>\n",
       "    .colab-df-container {\n",
       "      display:flex;\n",
       "      flex-wrap:wrap;\n",
       "      gap: 12px;\n",
       "    }\n",
       "\n",
       "    .colab-df-convert {\n",
       "      background-color: #E8F0FE;\n",
       "      border: none;\n",
       "      border-radius: 50%;\n",
       "      cursor: pointer;\n",
       "      display: none;\n",
       "      fill: #1967D2;\n",
       "      height: 32px;\n",
       "      padding: 0 0 0 0;\n",
       "      width: 32px;\n",
       "    }\n",
       "\n",
       "    .colab-df-convert:hover {\n",
       "      background-color: #E2EBFA;\n",
       "      box-shadow: 0px 1px 2px rgba(60, 64, 67, 0.3), 0px 1px 3px 1px rgba(60, 64, 67, 0.15);\n",
       "      fill: #174EA6;\n",
       "    }\n",
       "\n",
       "    [theme=dark] .colab-df-convert {\n",
       "      background-color: #3B4455;\n",
       "      fill: #D2E3FC;\n",
       "    }\n",
       "\n",
       "    [theme=dark] .colab-df-convert:hover {\n",
       "      background-color: #434B5C;\n",
       "      box-shadow: 0px 1px 3px 1px rgba(0, 0, 0, 0.15);\n",
       "      filter: drop-shadow(0px 1px 2px rgba(0, 0, 0, 0.3));\n",
       "      fill: #FFFFFF;\n",
       "    }\n",
       "  </style>\n",
       "\n",
       "      <script>\n",
       "        const buttonEl =\n",
       "          document.querySelector('#df-8719ba45-59f9-4a91-9141-a3bfc4ab6107 button.colab-df-convert');\n",
       "        buttonEl.style.display =\n",
       "          google.colab.kernel.accessAllowed ? 'block' : 'none';\n",
       "\n",
       "        async function convertToInteractive(key) {\n",
       "          const element = document.querySelector('#df-8719ba45-59f9-4a91-9141-a3bfc4ab6107');\n",
       "          const dataTable =\n",
       "            await google.colab.kernel.invokeFunction('convertToInteractive',\n",
       "                                                     [key], {});\n",
       "          if (!dataTable) return;\n",
       "\n",
       "          const docLinkHtml = 'Like what you see? Visit the ' +\n",
       "            '<a target=\"_blank\" href=https://colab.research.google.com/notebooks/data_table.ipynb>data table notebook</a>'\n",
       "            + ' to learn more about interactive tables.';\n",
       "          element.innerHTML = '';\n",
       "          dataTable['output_type'] = 'display_data';\n",
       "          await google.colab.output.renderOutput(dataTable, element);\n",
       "          const docLink = document.createElement('div');\n",
       "          docLink.innerHTML = docLinkHtml;\n",
       "          element.appendChild(docLink);\n",
       "        }\n",
       "      </script>\n",
       "    </div>\n",
       "  </div>\n",
       "  "
      ],
      "text/plain": [
       "   0               1           2           3              4                5   \\\n",
       "0   1  CA-2016-152156  08-11-2016  11-11-2016  United States        Henderson   \n",
       "1   2  CA-2016-152156  08-11-2016  11-11-2016  United States        Henderson   \n",
       "2   3  CA-2016-138688  12-06-2016  16-06-2016  United States      Los Angeles   \n",
       "3   4  US-2015-108966  11-10-2015  18-10-2015  United States  Fort Lauderdale   \n",
       "4   5  US-2015-108966  11-10-2015  18-10-2015  United States  Fort Lauderdale   \n",
       "\n",
       "           6                7          8         9   10        11  \n",
       "0    Kentucky        Furniture  Bookcases  261.9600   2   41.9136  \n",
       "1    Kentucky        Furniture     Chairs  731.9400   3  219.5820  \n",
       "2  California  Office Supplies     Labels   14.6200   2    6.8714  \n",
       "3     Florida        Furniture     Tables  957.5775   5 -383.0310  \n",
       "4     Florida  Office Supplies    Storage   22.3680   2    2.5164  "
      ]
     },
     "execution_count": 24,
     "metadata": {},
     "output_type": "execute_result"
    }
   ],
   "source": [
    "pd.DataFrame(a)"
   ]
  },
  {
   "cell_type": "code",
   "execution_count": null,
   "metadata": {
    "id": "WjNWqWB8pLwn"
   },
   "outputs": [],
   "source": [
    "from pyspark.ml.feature import Imputer"
   ]
  },
  {
   "cell_type": "code",
   "execution_count": null,
   "metadata": {
    "id": "gW2VW-ONq_HY"
   },
   "outputs": [],
   "source": [
    "new1=df.read.csv(\"/content/Admission_Prediction.csv\",header=True,inferSchema=True)"
   ]
  },
  {
   "cell_type": "code",
   "execution_count": null,
   "metadata": {
    "id": "L0Fp8-uytDS6"
   },
   "outputs": [],
   "source": [
    "imputer=Imputer(\n",
    "inputCols=[\"GRE Score\", \"TOEFL Score\", \"University Rating\"],\n",
    "outputCols=[\"GRE Score\", \"TOEFL Score\", \"University Rating\"]).setStrategy(\"median\")"
   ]
  },
  {
   "cell_type": "code",
   "execution_count": null,
   "metadata": {
    "id": "WCIUYes0t2G3"
   },
   "outputs": [],
   "source": [
    "model=imputer.fit(new1)"
   ]
  },
  {
   "cell_type": "code",
   "execution_count": null,
   "metadata": {
    "id": "b3xihsRZt6z-"
   },
   "outputs": [],
   "source": [
    "imputed_data=model.transform(new1)"
   ]
  },
  {
   "cell_type": "code",
   "execution_count": null,
   "metadata": {
    "colab": {
     "base_uri": "https://localhost:8080/"
    },
    "id": "sd4DsQPQt67Y",
    "outputId": "001067f6-4951-4c42-c1cb-2087e2d33cfd"
   },
   "outputs": [
    {
     "name": "stdout",
     "output_type": "stream",
     "text": [
      "+---------+-----------+-----------------+---+---+----+--------+---------------+\n",
      "|GRE Score|TOEFL Score|University Rating|SOP|LOR|CGPA|Research|Chance of Admit|\n",
      "+---------+-----------+-----------------+---+---+----+--------+---------------+\n",
      "|    337.0|      118.0|                4|4.5|4.5|9.65|     1.0|           0.92|\n",
      "|    324.0|      107.0|                4|4.0|4.5|8.87|     1.0|           0.76|\n",
      "|    317.0|      104.0|                3|3.0|3.5| 8.0|     1.0|           0.72|\n",
      "|    322.0|      110.0|                3|3.5|2.5|8.67|     1.0|            0.8|\n",
      "|    314.0|      103.0|                2|2.0|3.0|8.21|     0.0|           0.65|\n",
      "|    330.0|      115.0|                5|4.5|3.0|9.34|     1.0|            0.9|\n",
      "|    321.0|      109.0|                3|3.0|4.0| 8.2|     1.0|           0.75|\n",
      "|    308.0|      101.0|                2|3.0|4.0| 7.9|     0.0|           0.68|\n",
      "|    302.0|      102.0|                1|2.0|1.5| 8.0|     0.0|            0.5|\n",
      "|    323.0|      108.0|                3|3.5|3.0| 8.6|     0.0|           0.45|\n",
      "|    325.0|      106.0|                3|3.5|4.0| 8.4|     1.0|           0.52|\n",
      "|    327.0|      111.0|                4|4.0|4.5| 9.0|     1.0|           0.84|\n",
      "|    317.0|      112.0|                4|4.0|4.5| 9.1|     1.0|           0.78|\n",
      "|    307.0|      109.0|                3|4.0|3.0| 8.0|     1.0|           0.62|\n",
      "|    311.0|      104.0|                3|3.5|2.0| 8.2|     1.0|           0.61|\n",
      "|    314.0|      105.0|                3|3.5|2.5| 8.3|     0.0|           0.54|\n",
      "|    317.0|      107.0|                3|4.0|3.0| 8.7|     0.0|           0.66|\n",
      "|    319.0|      106.0|                3|4.0|3.0| 8.0|     1.0|           0.65|\n",
      "|    318.0|      110.0|                3|4.0|3.0| 8.8|     0.0|           0.63|\n",
      "|    303.0|      102.0|                3|3.5|3.0| 8.5|     0.0|           0.62|\n",
      "+---------+-----------+-----------------+---+---+----+--------+---------------+\n",
      "only showing top 20 rows\n",
      "\n"
     ]
    }
   ],
   "source": [
    "imputed_data.show()"
   ]
  },
  {
   "cell_type": "code",
   "execution_count": null,
   "metadata": {
    "colab": {
     "base_uri": "https://localhost:8080/"
    },
    "id": "0feamzCwt6_Q",
    "outputId": "7a4db693-172c-4895-8da9-1817069cd571"
   },
   "outputs": [
    {
     "name": "stdout",
     "output_type": "stream",
     "text": [
      "+----+---------+---------------+\n",
      "|CGPA|GRE Score|Chance of Admit|\n",
      "+----+---------+---------------+\n",
      "|9.65|    337.0|           0.92|\n",
      "|8.87|    324.0|           0.76|\n",
      "|8.67|    322.0|            0.8|\n",
      "|9.34|    330.0|            0.9|\n",
      "| 8.6|    323.0|           0.45|\n",
      "| 9.0|    327.0|           0.84|\n",
      "| 9.5|    328.0|           0.94|\n",
      "| 9.8|    336.0|           0.97|\n",
      "| 9.6|    340.0|           0.94|\n",
      "| 8.8|    322.0|           0.76|\n",
      "| 9.4|    338.0|           0.91|\n",
      "| 9.6|    340.0|            0.9|\n",
      "| 9.8|    331.0|           0.94|\n",
      "| 9.1|    332.0|           0.87|\n",
      "| 9.4|    326.0|           0.91|\n",
      "| 9.1|    322.0|           0.88|\n",
      "| 9.3|    329.0|           0.86|\n",
      "| 9.7|    339.0|           0.89|\n",
      "|8.85|    321.0|           0.82|\n",
      "| 8.7|    325.0|           0.52|\n",
      "+----+---------+---------------+\n",
      "only showing top 20 rows\n",
      "\n"
     ]
    }
   ],
   "source": [
    "new1.select(['CGPA','GRE Score','Chance of Admit']).filter((new1['CGPA']>8.5)&(new1['GRE Score']>320)).show()"
   ]
  },
  {
   "cell_type": "code",
   "execution_count": null,
   "metadata": {
    "colab": {
     "base_uri": "https://localhost:8080/"
    },
    "id": "gq5N0CIKysOS",
    "outputId": "7eea5501-c88c-4324-91c3-ca63483ab96c"
   },
   "outputs": [
    {
     "name": "stdout",
     "output_type": "stream",
     "text": [
      "+-----------------+--------------+----------------+\n",
      "|University Rating|sum(GRE Score)|sum(TOEFL Score)|\n",
      "+-----------------+--------------+----------------+\n",
      "|             null|        4727.0|          1584.0|\n",
      "|                1|        9733.0|          3199.0|\n",
      "|                3|       47579.0|         16259.0|\n",
      "|                5|       22625.0|          8171.0|\n",
      "|                4|       32355.0|         10782.0|\n",
      "|                2|       36512.0|         12527.0|\n",
      "+-----------------+--------------+----------------+\n",
      "\n"
     ]
    }
   ],
   "source": [
    "new1.groupby(\"University Rating\").sum('GRE Score','TOEFL Score').show()"
   ]
  },
  {
   "cell_type": "code",
   "execution_count": null,
   "metadata": {
    "id": "L_m71Wgpt7Ck"
   },
   "outputs": [],
   "source": [
    "#######################"
   ]
  },
  {
   "cell_type": "code",
   "execution_count": null,
   "metadata": {
    "id": "ZrIwgvATgENx"
   },
   "outputs": [],
   "source": []
  }
 ],
 "metadata": {
  "accelerator": "GPU",
  "colab": {
   "name": "PySpark",
   "provenance": []
  },
  "gpuClass": "standard",
  "kernelspec": {
   "display_name": "Python 3 (ipykernel)",
   "language": "python",
   "name": "python3"
  },
  "language_info": {
   "codemirror_mode": {
    "name": "ipython",
    "version": 3
   },
   "file_extension": ".py",
   "mimetype": "text/x-python",
   "name": "python",
   "nbconvert_exporter": "python",
   "pygments_lexer": "ipython3",
   "version": "3.9.7"
  }
 },
 "nbformat": 4,
 "nbformat_minor": 1
}
